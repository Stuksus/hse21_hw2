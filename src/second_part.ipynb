{
  "nbformat": 4,
  "nbformat_minor": 0,
  "metadata": {
    "colab": {
      "name": "second_part.ipynb",
      "provenance": [],
      "collapsed_sections": []
    },
    "kernelspec": {
      "name": "python3",
      "display_name": "Python 3"
    },
    "language_info": {
      "name": "python"
    }
  },
  "cells": [
    {
      "cell_type": "markdown",
      "source": [
        "# Скачиваем данные и устанавливаем программы"
      ],
      "metadata": {
        "id": "WJ71oQTxShEj"
      }
    },
    {
      "cell_type": "code",
      "source": [
        "!wget https://raw.githubusercontent.com/Stuksus/hse21_hw2/main/data/gms2.lst"
      ],
      "metadata": {
        "id": "fWSU9pxNTOSR",
        "colab": {
          "base_uri": "https://localhost:8080/"
        },
        "outputId": "fa3caea4-d8bc-4428-e855-ff626ca8a362"
      },
      "execution_count": 2,
      "outputs": [
        {
          "output_type": "stream",
          "name": "stdout",
          "text": [
            "--2021-12-16 15:20:52--  https://raw.githubusercontent.com/Stuksus/hse21_hw2/main/data/gms2.lst\n",
            "Resolving raw.githubusercontent.com (raw.githubusercontent.com)... 185.199.111.133, 185.199.109.133, 185.199.108.133, ...\n",
            "Connecting to raw.githubusercontent.com (raw.githubusercontent.com)|185.199.111.133|:443... connected.\n",
            "HTTP request sent, awaiting response... 200 OK\n",
            "Length: 219930 (215K) [text/plain]\n",
            "Saving to: ‘gms2.lst’\n",
            "\n",
            "gms2.lst            100%[===================>] 214.78K  --.-KB/s    in 0.03s   \n",
            "\n",
            "2021-12-16 15:20:53 (8.34 MB/s) - ‘gms2.lst’ saved [219930/219930]\n",
            "\n"
          ]
        }
      ]
    },
    {
      "cell_type": "code",
      "source": [
        "!wget https://raw.githubusercontent.com/Stuksus/hse21_hw2/main/data/Poil_scaffold.fa"
      ],
      "metadata": {
        "id": "yWoD0myNTVi8",
        "colab": {
          "base_uri": "https://localhost:8080/"
        },
        "outputId": "8ec3fd4e-0b07-4024-c366-6b78c12ebec7"
      },
      "execution_count": 3,
      "outputs": [
        {
          "output_type": "stream",
          "name": "stdout",
          "text": [
            "--2021-12-16 15:20:53--  https://raw.githubusercontent.com/Stuksus/hse21_hw2/main/data/Poil_scaffold.fa\n",
            "Resolving raw.githubusercontent.com (raw.githubusercontent.com)... 185.199.111.133, 185.199.108.133, 185.199.109.133, ...\n",
            "Connecting to raw.githubusercontent.com (raw.githubusercontent.com)|185.199.111.133|:443... connected.\n",
            "HTTP request sent, awaiting response... 200 OK\n",
            "Length: 3923905 (3.7M) [text/plain]\n",
            "Saving to: ‘Poil_scaffold.fa’\n",
            "\n",
            "Poil_scaffold.fa    100%[===================>]   3.74M  --.-KB/s    in 0.07s   \n",
            "\n",
            "2021-12-16 15:20:53 (51.5 MB/s) - ‘Poil_scaffold.fa’ saved [3923905/3923905]\n",
            "\n"
          ]
        }
      ]
    },
    {
      "cell_type": "code",
      "source": [
        "!wget https://raw.githubusercontent.com/Stuksus/hse21_hw2/main/data/proteins.fasta"
      ],
      "metadata": {
        "id": "FkuulZekTbh9",
        "colab": {
          "base_uri": "https://localhost:8080/"
        },
        "outputId": "d9a86d55-905f-424e-c936-76d5cdb2bfbc"
      },
      "execution_count": 4,
      "outputs": [
        {
          "output_type": "stream",
          "name": "stdout",
          "text": [
            "--2021-12-16 15:20:53--  https://raw.githubusercontent.com/Stuksus/hse21_hw2/main/data/proteins.fasta\n",
            "Resolving raw.githubusercontent.com (raw.githubusercontent.com)... 185.199.108.133, 185.199.109.133, 185.199.110.133, ...\n",
            "Connecting to raw.githubusercontent.com (raw.githubusercontent.com)|185.199.108.133|:443... connected.\n",
            "HTTP request sent, awaiting response... 200 OK\n",
            "Length: 1426551 (1.4M) [text/plain]\n",
            "Saving to: ‘proteins.fasta’\n",
            "\n",
            "proteins.fasta      100%[===================>]   1.36M  --.-KB/s    in 0.05s   \n",
            "\n",
            "2021-12-16 15:20:54 (25.5 MB/s) - ‘proteins.fasta’ saved [1426551/1426551]\n",
            "\n"
          ]
        }
      ]
    },
    {
      "cell_type": "code",
      "source": [
        "!wget https://raw.githubusercontent.com/Stuksus/hse21_hw2/main/data/scaffolds.hits_from_MIL_1.txt"
      ],
      "metadata": {
        "id": "wljcApdJTjGr",
        "colab": {
          "base_uri": "https://localhost:8080/"
        },
        "outputId": "93152ad3-fad7-4ec1-e438-ef5809584537"
      },
      "execution_count": 5,
      "outputs": [
        {
          "output_type": "stream",
          "name": "stdout",
          "text": [
            "--2021-12-16 15:20:54--  https://raw.githubusercontent.com/Stuksus/hse21_hw2/main/data/scaffolds.hits_from_MIL_1.txt\n",
            "Resolving raw.githubusercontent.com (raw.githubusercontent.com)... 185.199.108.133, 185.199.109.133, 185.199.110.133, ...\n",
            "Connecting to raw.githubusercontent.com (raw.githubusercontent.com)|185.199.108.133|:443... connected.\n",
            "HTTP request sent, awaiting response... 200 OK\n",
            "Length: 835778 (816K) [text/plain]\n",
            "Saving to: ‘scaffolds.hits_from_MIL_1.txt’\n",
            "\n",
            "scaffolds.hits_from 100%[===================>] 816.19K  --.-KB/s    in 0.04s   \n",
            "\n",
            "2021-12-16 15:20:54 (18.0 MB/s) - ‘scaffolds.hits_from_MIL_1.txt’ saved [835778/835778]\n",
            "\n"
          ]
        }
      ]
    },
    {
      "cell_type": "code",
      "source": [
        "!wget https://raw.githubusercontent.com/Stuksus/hse21_hw2/main/data/scaffolds.hits_from_SwissProt.txt"
      ],
      "metadata": {
        "id": "7ZGyVtAfTopz",
        "colab": {
          "base_uri": "https://localhost:8080/"
        },
        "outputId": "e4ee70b4-2cbc-4ab8-f09e-deb7012f1ca1"
      },
      "execution_count": 6,
      "outputs": [
        {
          "output_type": "stream",
          "name": "stdout",
          "text": [
            "--2021-12-16 15:20:54--  https://raw.githubusercontent.com/Stuksus/hse21_hw2/main/data/scaffolds.hits_from_SwissProt.txt\n",
            "Resolving raw.githubusercontent.com (raw.githubusercontent.com)... 185.199.108.133, 185.199.109.133, 185.199.110.133, ...\n",
            "Connecting to raw.githubusercontent.com (raw.githubusercontent.com)|185.199.108.133|:443... connected.\n",
            "HTTP request sent, awaiting response... 200 OK\n",
            "Length: 65074 (64K) [text/plain]\n",
            "Saving to: ‘scaffolds.hits_from_SwissProt.txt’\n",
            "\n",
            "scaffolds.hits_from 100%[===================>]  63.55K  --.-KB/s    in 0.01s   \n",
            "\n",
            "2021-12-16 15:20:55 (5.73 MB/s) - ‘scaffolds.hits_from_SwissProt.txt’ saved [65074/65074]\n",
            "\n"
          ]
        }
      ]
    },
    {
      "cell_type": "markdown",
      "metadata": {
        "id": "EkEflOHmCHHW"
      },
      "source": [
        "## Скачиваем геном близкородственной бактерии T.oleivorans"
      ]
    },
    {
      "cell_type": "markdown",
      "metadata": {
        "id": "noBYTW1bRH9O"
      },
      "source": [
        "Геном, последовательности генов (нт) и белков (протеом) для бактерии Thalassolituus oleivorans MIL-1\n",
        "https://www.ncbi.nlm.nih.gov/nuccore/HF680312"
      ]
    },
    {
      "cell_type": "code",
      "source": [
        "!sh -c \"$(curl -fsSL ftp://ftp.ncbi.nlm.nih.gov/entrez/entrezdirect/install-edirect.sh)\""
      ],
      "metadata": {
        "id": "bqv3FR5efmk6",
        "colab": {
          "base_uri": "https://localhost:8080/"
        },
        "outputId": "b0091396-93ac-4f5f-8e00-31fc85e149c1"
      },
      "execution_count": 7,
      "outputs": [
        {
          "output_type": "stream",
          "name": "stdout",
          "text": [
            "\n",
            "Entrez Direct has been successfully downloaded and installed.\n",
            "\n",
            "In order to complete the configuration process, please execute the following:\n",
            "\n",
            "  echo \"export PATH=\\${PATH}:/root/edirect\" >> ${HOME}/.bashrc\n",
            "\n",
            "or manually edit the PATH variable assignment in your .bashrc file.\n",
            "\n",
            "Would you like to do that automatically now? [y/N]\n",
            "y\n",
            "OK, done.\n",
            "\n",
            "To activate EDirect for this terminal session, please execute the following:\n",
            "\n",
            "export PATH=${PATH}:${HOME}/edirect\n",
            "\n"
          ]
        }
      ]
    },
    {
      "cell_type": "code",
      "source": [
        "!$HOME/edirect/efetch -db nuccore -id HF680312 -format gb  >  T_oleivorans_MIL_1.gbk"
      ],
      "metadata": {
        "id": "4O3-rUx4fvbw"
      },
      "execution_count": 8,
      "outputs": []
    },
    {
      "cell_type": "code",
      "metadata": {
        "id": "j2uga-mieSB6",
        "colab": {
          "base_uri": "https://localhost:8080/"
        },
        "outputId": "dba98080-8d56-4aa8-dc8e-bc54703fa894"
      },
      "source": [
        "!pip install biopython"
      ],
      "execution_count": 9,
      "outputs": [
        {
          "output_type": "stream",
          "name": "stdout",
          "text": [
            "Collecting biopython\n",
            "  Downloading biopython-1.79-cp37-cp37m-manylinux_2_5_x86_64.manylinux1_x86_64.whl (2.3 MB)\n",
            "\u001b[K     |████████████████████████████████| 2.3 MB 5.9 MB/s \n",
            "\u001b[?25hRequirement already satisfied: numpy in /usr/local/lib/python3.7/dist-packages (from biopython) (1.19.5)\n",
            "Installing collected packages: biopython\n",
            "Successfully installed biopython-1.79\n"
          ]
        }
      ]
    },
    {
      "cell_type": "markdown",
      "source": [
        "## Аннотация генома (пример)"
      ],
      "metadata": {
        "id": "EJIw_JDLUgt5"
      }
    },
    {
      "cell_type": "markdown",
      "source": [
        "Biopython Tutorial: http://biopython.org/DIST/docs/tutorial/Tutorial.html"
      ],
      "metadata": {
        "id": "qhxlclhoYhBh"
      }
    },
    {
      "cell_type": "code",
      "source": [
        "!head -n 20 gms2.lst"
      ],
      "metadata": {
        "id": "G33GF-iGU9Ka",
        "colab": {
          "base_uri": "https://localhost:8080/"
        },
        "outputId": "2d7efea9-8e45-4af9-ac3a-4ef6fdefb397"
      },
      "execution_count": 10,
      "outputs": [
        {
          "output_type": "stream",
          "name": "stdout",
          "text": [
            "# GeneMark.hmm-2 LST format\n",
            "# GeneMark.hmm-2 prokaryotic version: 1.25_lic\n",
            "# File with sequence: Poil_scaffold.fa\n",
            "# File with native parameters: GMS2.mod\n",
            "# Native species name and build: unspecified GeneMarkS-2-1.14_1.25_lic\n",
            "# File with MetaGeneMark parameters: /content/gms2_linux_64/mgm_11.mod\n",
            "# translation table: 11\n",
            "# output date start: Wed Dec 15 21:52:34 2021\n",
            "\n",
            "# sequence-region 1 1840\n",
            "SequenceID: scaffold1_len1840_cov378\n",
            "     1   -   <2    703     702 native AGGTTA 11 1\n",
            "     2   -    832    1170     339 native AGGAGG 7 1\n",
            "     3   +    1400    1819     420 atypical TGGAAG 8 1\n",
            "# scaffold1_len1840_cov378\ttotal_logodd\t57.6271\taverage_length\t487\taverage_density\t1.63\n",
            "\n",
            "# sequence-region 1 284\n",
            "SequenceID: scaffold2_len284_cov261_single\n",
            "     4   +   <1   >282     282 native\n",
            "# scaffold2_len284_cov261_single\ttotal_logodd\t34.1377\taverage_length\t282\taverage_density\t3.52\n"
          ]
        }
      ]
    },
    {
      "cell_type": "markdown",
      "source": [
        "Для примера проаннотируем два коротких скаффолда (scaffold3_cov275 и scaffold9_cov256):\n",
        "\n"
      ],
      "metadata": {
        "id": "OKK4GsdqZPZ6"
      }
    },
    {
      "cell_type": "code",
      "metadata": {
        "id": "1hegJvwMIiPe"
      },
      "source": [
        "from Bio import SeqIO\n",
        "all_records = {}\n",
        "for record in SeqIO.parse(\"/content/Poil_scaffold.fa\", \"fasta\"):\n",
        "    record.annotations['molecule_type'] = 'DNA'\n",
        "    # record.format(\"genbank\")\n",
        "    all_records[record.id] = record#.format(\"genbank\")"
      ],
      "execution_count": 12,
      "outputs": []
    },
    {
      "cell_type": "code",
      "source": [
        "all_records['scaffold1_len1840_cov378'].features"
      ],
      "metadata": {
        "colab": {
          "base_uri": "https://localhost:8080/"
        },
        "id": "fNHqX1UG6DLh",
        "outputId": "e3d2d4c7-3899-4722-dc2f-a12d305293db"
      },
      "execution_count": 13,
      "outputs": [
        {
          "output_type": "execute_result",
          "data": {
            "text/plain": [
              "[]"
            ]
          },
          "metadata": {},
          "execution_count": 13
        }
      ]
    },
    {
      "cell_type": "code",
      "source": [
        "all_records['scaffold1_len1840_cov378']"
      ],
      "metadata": {
        "colab": {
          "base_uri": "https://localhost:8080/"
        },
        "id": "4fzCxkVm-FfG",
        "outputId": "d7a780f3-a7da-48e5-c04d-f99563d7b5a3"
      },
      "execution_count": 14,
      "outputs": [
        {
          "output_type": "execute_result",
          "data": {
            "text/plain": [
              "SeqRecord(seq=Seq('TATATCTTGCCTCAGCTTCAGCGGGTGTTAACCCGCCATTAAATGTATGTGGTC...AAA'), id='scaffold1_len1840_cov378', name='scaffold1_len1840_cov378', description='scaffold1_len1840_cov378', dbxrefs=[])"
            ]
          },
          "metadata": {},
          "execution_count": 14
        }
      ]
    },
    {
      "cell_type": "code",
      "source": [
        "SeqIO.write(all_records.values(), \"GENOME.gbk\", \"genbank\")"
      ],
      "metadata": {
        "id": "4mv05veKXHWo",
        "colab": {
          "base_uri": "https://localhost:8080/"
        },
        "outputId": "e8247017-8adb-466f-f536-38dd39676b28"
      },
      "execution_count": 15,
      "outputs": [
        {
          "output_type": "stream",
          "name": "stderr",
          "text": [
            "/usr/local/lib/python3.7/dist-packages/Bio/SeqIO/InsdcIO.py:730: BiopythonWarning: Increasing length of locus line to allow long name. This will result in fields that are not in usual positions.\n",
            "  BiopythonWarning,\n"
          ]
        },
        {
          "output_type": "execute_result",
          "data": {
            "text/plain": [
              "70"
            ]
          },
          "metadata": {},
          "execution_count": 15
        }
      ]
    },
    {
      "cell_type": "markdown",
      "source": [
        "## Добавляем координаты генов"
      ],
      "metadata": {
        "id": "nuikKeO1bL7N"
      }
    },
    {
      "cell_type": "markdown",
      "source": [
        "```\n",
        "SequenceID: scaffold3_cov275\n",
        "  3535   -    30    1001     972 atypical GTCGAG 5 1\n",
        "  3536   -    1350    2192     843 native AAAGTG 7 1\n",
        "  3537   +    2304    2507     204 native GCGGAG 7 1\n",
        "  3538   -    2554    2751     198 native TAAGTA 7 1\n",
        "  3539   +    2855    3265     411 native TCGGTC 6 1\n",
        "```"
      ],
      "metadata": {
        "id": "lR-FjFgRba09"
      }
    },
    {
      "cell_type": "code",
      "metadata": {
        "id": "4cXKMhtmYZ9t"
      },
      "source": [
        "from os import sched_get_priority_max\n",
        "from pprint import pprint\n",
        "from Bio.SeqFeature import SeqFeature, FeatureLocation\n",
        "all_sc = []\n",
        "ID = ''\n",
        "start_flag = 1\n",
        "with open('gms2.lst') as f:\n",
        "    for i in f.read().splitlines()[10:]:\n",
        "\n",
        "        row = i.split()\n",
        "        if len(row) != 0:\n",
        "            if 'SequenceID:' in row:\n",
        "                \n",
        "                if start_flag == 0:\n",
        "                    all_records[ID].features = all_sc\n",
        "                    all_sc = []\n",
        "                \n",
        "                ID = row[1]\n",
        "                start_flag = 0\n",
        "            elif '#' in row:\n",
        "                pass\n",
        "            else:\n",
        "                tag,strand,start,stop = row[0],row[1],[row[2].replace('<','') if '<' in row[2] else row[2]][0],[row[3].replace('>','') if '>' in row[3] else row[3]][0]\n",
        "                if strand == '-':\n",
        "                    strand = -1\n",
        "                else:\n",
        "                    strand = 1\n",
        "                sc = SeqFeature(FeatureLocation(int(start), int(stop), strand=strand), type=\"CDS\")\n",
        "                sc.qualifiers['locus_tag'] = [tag]\n",
        "                all_sc += [sc]\n",
        "\n",
        "\n",
        "\n"
      ],
      "execution_count": 16,
      "outputs": []
    },
    {
      "cell_type": "code",
      "source": [
        "SeqIO.write(all_records.values(), \"GENOME.gbk\", \"genbank\")"
      ],
      "metadata": {
        "id": "GoDauTDCvcdM",
        "colab": {
          "base_uri": "https://localhost:8080/"
        },
        "outputId": "a8ce3883-d010-4fed-dfe3-10198eeb51d8"
      },
      "execution_count": 17,
      "outputs": [
        {
          "output_type": "stream",
          "name": "stderr",
          "text": [
            "/usr/local/lib/python3.7/dist-packages/Bio/SeqIO/InsdcIO.py:730: BiopythonWarning: Increasing length of locus line to allow long name. This will result in fields that are not in usual positions.\n",
            "  BiopythonWarning,\n"
          ]
        },
        {
          "output_type": "execute_result",
          "data": {
            "text/plain": [
              "70"
            ]
          },
          "metadata": {},
          "execution_count": 17
        }
      ]
    },
    {
      "cell_type": "markdown",
      "source": [
        "## Добавляем трансляции генов (аминокислотные посл-ти)"
      ],
      "metadata": {
        "id": "ed-CWFY3cZK0"
      }
    },
    {
      "cell_type": "code",
      "source": [
        "\n",
        "for record_protein in SeqIO.parse(\"proteins.fasta\", \"fasta\"):\n",
        "  for record in all_records.values():\n",
        "    for feature in record.features:\n",
        "      if record_protein.id == feature.qualifiers['locus_tag'][0]:\n",
        "        feature.qualifiers['translation'] = [record_protein.seq]"
      ],
      "metadata": {
        "id": "lmT1wp0Bcnlq"
      },
      "execution_count": 18,
      "outputs": []
    },
    {
      "cell_type": "code",
      "source": [
        "SeqIO.write(all_records.values(), \"GENOME.gbk\", \"genbank\")"
      ],
      "metadata": {
        "id": "AZfod3Pcv-yP",
        "colab": {
          "base_uri": "https://localhost:8080/"
        },
        "outputId": "9555d488-9ca1-46c5-e216-9fa29b4cf4f4"
      },
      "execution_count": 19,
      "outputs": [
        {
          "output_type": "stream",
          "name": "stderr",
          "text": [
            "/usr/local/lib/python3.7/dist-packages/Bio/SeqIO/InsdcIO.py:730: BiopythonWarning: Increasing length of locus line to allow long name. This will result in fields that are not in usual positions.\n",
            "  BiopythonWarning,\n"
          ]
        },
        {
          "output_type": "execute_result",
          "data": {
            "text/plain": [
              "70"
            ]
          },
          "metadata": {},
          "execution_count": 19
        }
      ]
    },
    {
      "cell_type": "code",
      "source": [
        "pprint(vars(all_records['scaffold1_len1840_cov378'].features[0]))"
      ],
      "metadata": {
        "id": "8ylsrwLOeeOk",
        "colab": {
          "base_uri": "https://localhost:8080/"
        },
        "outputId": "0cb5d687-c409-4d14-ce07-aa587ce32e27"
      },
      "execution_count": 20,
      "outputs": [
        {
          "output_type": "stream",
          "name": "stdout",
          "text": [
            "{'id': '<unknown id>',\n",
            " 'location': FeatureLocation(ExactPosition(2), ExactPosition(703), strand=-1),\n",
            " 'qualifiers': OrderedDict([('locus_tag', ['1']),\n",
            "                            ('translation',\n",
            "                             [Seq('MIKRIYHLSNGSAGARTIATASTTEGLPMTRYIASKRMKELNFVSCQLPNHSYK...ARY')])]),\n",
            " 'type': 'CDS'}\n"
          ]
        }
      ]
    },
    {
      "cell_type": "markdown",
      "source": [
        "## Добавляем функции белков (из бактерии MIL-1)"
      ],
      "metadata": {
        "id": "D2UNiwEyet54"
      }
    },
    {
      "cell_type": "markdown",
      "source": [
        "Часть файла scaffolds.hits_from_MIL_1.txt:\n",
        "```\n",
        "3535\tlcl|HF680312.1_prot_CCU72326.1_1877\t99.054\t317\t3\t0\t3\t319\t1\t317\t0.0\t644\n",
        "3535\tlcl|HF680312.1_prot_CCU72392.1_1943\t34.583\t240\t138\t5\t85\t307\t956\t1193\t2.33e-30\t118\n",
        "3535\tlcl|HF680312.1_prot_CCU72759.1_2310\t27.667\t300\t188\t8\t8\t302\t709\t984\t1.02e-24\t101\n",
        "3535\tlcl|HF680312.1_prot_CCU70543.1_94\t42.857\t126\t71\t1\t79\t204\t798\t922\t5.63e-24\t99.4\n",
        "3535\tlcl|HF680312.1_prot_CCU70690.1_241\t26.140\t329\t205\t10\t2\t303\t591\t908\t6.26e-23\t96.7\n",
        "3535\tlcl|HF680312.1_prot_CCU74013.1_3564\t38.462\t130\t76\t3\t91\t219\t685\t811\t4.96e-20\t87.8\n",
        "3535\tlcl|HF680312.1_prot_CCU71475.1_1026\t36.522\t115\t71\t2\t86\t200\t555\t667\t2.19e-16\t76.6\n",
        "3535\tlcl|HF680312.1_prot_CCU71362.1_913\t24.535\t269\t187\t3\t52\t306\t633\t899\t2.61e-14\t70.5\n",
        "3535\tlcl|HF680312.1_prot_CCU70724.1_275\t30.534\t131\t81\t3\t78\t205\t1983\t2106\t6.54e-13\t66.2\n",
        "3535\tlcl|HF680312.1_prot_CCU70719.1_270\t26.087\t115\t83\t1\t90\t204\t15\t127\t9.14e-12\t58.5\n",
        "3535\tlcl|HF680312.1_prot_CCU72006.1_1557\t35.652\t115\t68\t3\t87\t200\t421\t530\t1.06e-11\t62.0\n",
        "3535\tlcl|HF680312.1_prot_CCU72513.1_2064\t33.628\t113\t72\t1\t91\t200\t766\t878\t1.22e-11\t62.4\n",
        "3536\tlcl|HF680312.1_prot_CCU72327.1_1878\t100.000\t280\t0\t0\t1\t280\t1\t280\t0.0\t570\n",
        "3536\tlcl|HF680312.1_prot_CCU72858.1_2409\t27.437\t277\t181\t4\t10\t272\t1\t271\t1.82e-26\t101\n",
        "3537\tlcl|HF680312.1_prot_CCU72328.1_1879\t100.000\t67\t0\t0\t1\t67\t1\t67\t9.75e-44\t132\n",
        "```"
      ],
      "metadata": {
        "id": "tCFpL_GLfDzJ"
      }
    },
    {
      "cell_type": "code",
      "source": [
        "with open('scaffolds.hits_from_MIL_1.txt') as f:\n",
        "    file_text = f.read().splitlines()\n",
        "\n",
        "for record in all_records.values():\n",
        "    for feature in record.features:\n",
        "        feature.qualifiers['note'] = ''\n",
        "        for line in file_text:\n",
        "            zero_tag = line.split('\\t')[0]\n",
        "            ccu_code = line.split('_')[2]\n",
        "            if feature.qualifiers['locus_tag'][0] == zero_tag:\n",
        "                feature.qualifiers['note'] += ccu_code + ' '"
      ],
      "metadata": {
        "id": "D3t40wML-mZ0"
      },
      "execution_count": 21,
      "outputs": []
    },
    {
      "cell_type": "code",
      "source": [
        "pprint(all_records['scaffold1_len1840_cov378'].features[0])"
      ],
      "metadata": {
        "colab": {
          "base_uri": "https://localhost:8080/"
        },
        "id": "jfvxFnszG27e",
        "outputId": "cdcacdad-7410-442e-b004-b6536918fb18"
      },
      "execution_count": 23,
      "outputs": [
        {
          "output_type": "stream",
          "name": "stdout",
          "text": [
            "SeqFeature(FeatureLocation(ExactPosition(2), ExactPosition(703), strand=-1), type='CDS')\n"
          ]
        }
      ]
    },
    {
      "cell_type": "code",
      "source": [
        "mil_1_genome = SeqIO.read(\"/content/T_oleivorans_MIL_1.gbk\", \"genbank\")"
      ],
      "metadata": {
        "id": "MxKSgTvihLIY"
      },
      "execution_count": 24,
      "outputs": []
    },
    {
      "cell_type": "code",
      "metadata": {
        "id": "4EDCGDdmZt8O"
      },
      "source": [
        "\n",
        "for  mil_f in mil_1_genome.features:\n",
        "    if 'protein_id' not in mil_f.qualifiers:\n",
        "        continue\n",
        "    for record in all_records.values():\n",
        "        for feature in record.features:\n",
        "            if 'note' in feature.qualifiers:\n",
        "                if mil_f.qualifiers['protein_id'][0] in feature.qualifiers['note']:\n",
        "                    feature.qualifiers['product'] = mil_f.qualifiers['product']"
      ],
      "execution_count": 25,
      "outputs": []
    },
    {
      "cell_type": "code",
      "source": [
        "pprint(all_records['scaffold1_len1840_cov378'].features[0].qualifiers)"
      ],
      "metadata": {
        "id": "eK-3-vRCxHEP",
        "colab": {
          "base_uri": "https://localhost:8080/"
        },
        "outputId": "3c8e0809-ff9d-45ee-e6da-e84d3230fc7e"
      },
      "execution_count": 26,
      "outputs": [
        {
          "output_type": "stream",
          "name": "stdout",
          "text": [
            "OrderedDict([('locus_tag', ['1']),\n",
            "             ('translation',\n",
            "              [Seq('MIKRIYHLSNGSAGARTIATASTTEGLPMTRYIASKRMKELNFVSCQLPNHSYK...ARY')]),\n",
            "             ('note',\n",
            "              'CCU73710.1 CCU73192.1 CCU72958.1 CCU72346.1 CCU71763.1 '\n",
            "              'CCU70461.1 CCU72337.1 CCU71593.1 CCU71934.1 CCU71654.1 2131\\t'\n",
            "              '43.750\\t80\\t44\\t1\\t50\\t128\\t13\\t92\\t6.66e-19\\t78.6 1833\\t'\n",
            "              '27.869\\t122\\t85\\t3\\t2\\t121\\t34\\t154\\t6.15e-13\\t61.6 416\\t'\n",
            "              '40.000\\t70\\t42\\t0\\t165\\t234\\t10\\t79\\t2.34e-11\\t55.5 '),\n",
            "             ('product', ['transposase orfB'])])\n"
          ]
        }
      ]
    },
    {
      "cell_type": "code",
      "source": [
        "\n",
        "SeqIO.write(all_records.values(), \"GENOME.gbk\", \"genbank\")"
      ],
      "metadata": {
        "id": "KHcrRw4HxTzk",
        "colab": {
          "base_uri": "https://localhost:8080/"
        },
        "outputId": "5a73cea1-d0dd-4a79-f657-a4415dcdef8b"
      },
      "execution_count": 27,
      "outputs": [
        {
          "output_type": "stream",
          "name": "stderr",
          "text": [
            "/usr/local/lib/python3.7/dist-packages/Bio/SeqIO/InsdcIO.py:730: BiopythonWarning: Increasing length of locus line to allow long name. This will result in fields that are not in usual positions.\n",
            "  BiopythonWarning,\n"
          ]
        },
        {
          "output_type": "execute_result",
          "data": {
            "text/plain": [
              "70"
            ]
          },
          "metadata": {},
          "execution_count": 27
        }
      ]
    },
    {
      "cell_type": "markdown",
      "source": [
        "## Добавляем функции белков (из БД SwissProt)"
      ],
      "metadata": {
        "id": "Pr5GctSQxlsQ"
      }
    },
    {
      "cell_type": "markdown",
      "source": [
        "Читаем информацию из файла scaffolds.hits_from_SwissProt.txt"
      ],
      "metadata": {
        "id": "xLafv2r8xo6P"
      }
    },
    {
      "cell_type": "code",
      "source": [
        "!head scaffolds.hits_from_SwissProt.txt"
      ],
      "metadata": {
        "id": "_bHOMEqhxvDd",
        "colab": {
          "base_uri": "https://localhost:8080/"
        },
        "outputId": "1cea0a71-efd2-4ebe-c3f8-071db426b55f"
      },
      "execution_count": 28,
      "outputs": [
        {
          "output_type": "stream",
          "name": "stdout",
          "text": [
            "285\tsp|Q58577|Y1178_METJA\t30.055\t366\t192\t15\t1\t336\t4\t335\t2.95e-28\t115\n",
            "285\tsp|Q81ST7|BSHA_BACAN\t29.097\t299\t168\t10\t63\t335\t77\t357\t2.72e-22\t100\n",
            "285\tsp|P9WMZ3|PIMB_MYCTU\t28.689\t244\t148\t6\t113\t336\t130\t367\t3.02e-21\t97.1\n",
            "285\tsp|P9WMZ2|PIMB_MYCTO\t28.689\t244\t148\t6\t113\t336\t130\t367\t3.02e-21\t97.1\n",
            "285\tsp|O32272|TUAC_BACSU\t25.313\t399\t230\t11\t1\t348\t1\t382\t8.04e-21\t95.9\n",
            "285\tsp|Q59002|Y1607_METJA\t28.523\t298\t181\t10\t67\t340\t84\t373\t1.71e-18\t89.4\n",
            "285\tsp|Q8NTA6|MSHA_CORGL\t30.147\t272\t160\t13\t103\t352\t144\t407\t1.34e-17\t86.7\n",
            "285\tsp|A4QB40|MSHA_CORGB\t30.147\t272\t160\t13\t103\t352\t144\t407\t1.34e-17\t86.7\n",
            "285\tsp|A7TZT2|MFPS_AGRFC\t26.400\t250\t160\t6\t106\t336\t177\t421\t9.81e-17\t84.3\n",
            "285\tsp|Q8FSH1|MSHA_COREF\t29.588\t267\t156\t12\t106\t349\t147\t404\t3.76e-16\t82.4\n"
          ]
        }
      ]
    },
    {
      "cell_type": "code",
      "source": [
        "with open('scaffolds.hits_from_SwissProt.txt') as f:\n",
        "    file_text = f.read().splitlines()\n",
        "\n",
        "for record in all_records.values():\n",
        "    for feature in record.features:\n",
        "        feature.qualifiers['product_SwissProt'] = ''\n",
        "        for line in file_text:\n",
        "            first = line.split('|')[2].split('\\t')[0]\n",
        "            second = line.split('\\t')[-2]\n",
        "            if feature.qualifiers['locus_tag'][0] == line.split('\\t')[0]:\n",
        "                feature.qualifiers['product_SwissProt'] +=  'Similar to SwissProt protein ' +first + ' (E_value= ' + second + '),  '"
      ],
      "metadata": {
        "id": "6blMVYxi9QwL"
      },
      "execution_count": 30,
      "outputs": []
    },
    {
      "cell_type": "markdown",
      "source": [
        "product = 'Similar to SwissProt protein Y1178_METJA (E-value = 2.95e-28)'"
      ],
      "metadata": {
        "id": "UykENPFgyIQu"
      }
    },
    {
      "cell_type": "markdown",
      "source": [
        "Бонус*\n",
        "\n",
        "Получить функции белков SwissProt из файла: https://ftp.uniprot.org/pub/databases/uniprot/current_release/knowledgebase/complete/uniprot_sprot.dat.gz"
      ],
      "metadata": {
        "id": "HWWUeHCdyAdb"
      }
    }
  ]
}